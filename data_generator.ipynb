{
 "cells": [
  {
   "cell_type": "code",
   "execution_count": null,
   "id": "2fd2a374-947c-4fc4-b348-67b590d294be",
   "metadata": {},
   "outputs": [],
   "source": [
    "import pandas as pd\n",
    "from faker import Faker\n",
    "import random\n",
    "import time"
   ]
  },
  {
   "cell_type": "code",
   "execution_count": null,
   "id": "13f7b4e0",
   "metadata": {},
   "outputs": [],
   "source": [
    "# Init\n",
    "fake = Faker()\n",
    "total_records = 5000000\n",
    "data = []"
   ]
  },
  {
   "cell_type": "code",
   "execution_count": null,
   "id": "9834bf02",
   "metadata": {},
   "outputs": [],
   "source": [
    "# Time formatting for ETA\n",
    "def format_eta(seconds_remaining):\n",
    "    hours, remainder = divmod(int(seconds_remaining), 3600)\n",
    "    minutes, seconds = divmod(remainder, 60)\n",
    "    return f\"{hours:02d}:{minutes:02d}:{seconds:02d}\""
   ]
  },
  {
   "cell_type": "code",
   "execution_count": null,
   "id": "0d6a2046",
   "metadata": {},
   "outputs": [
    {
     "ename": "",
     "evalue": "",
     "output_type": "error",
     "traceback": [
      "\u001b[1;31mThe Kernel crashed while executing code in the current cell or a previous cell. \n",
      "\u001b[1;31mPlease review the code in the cell(s) to identify a possible cause of the failure. \n",
      "\u001b[1;31mClick <a href='https://aka.ms/vscodeJupyterKernelCrash'>here</a> for more info. \n",
      "\u001b[1;31mView Jupyter <a href='command:jupyter.viewOutput'>log</a> for further details."
     ]
    }
   ],
   "source": [
    "# Start time\n",
    "start_time = time.time()\n",
    "\n",
    "# Generate fake data\n",
    "for i in range(total_records):\n",
    "    row = {\n",
    "        \"name\": fake.name(),\n",
    "        \"email\": fake.email(),\n",
    "        \"address\": fake.address().replace(\"\\n\", \", \"),\n",
    "        \"phone\": fake.phone_number(),\n",
    "        \"birthdate\": fake.date_of_birth(minimum_age=18, maximum_age=90).isoformat(),\n",
    "        \"account_balance\": round(random.uniform(1000, 50000), 2),\n",
    "        \"job_title\": fake.job(),\n",
    "        \"company\": fake.company(),\n",
    "        \"website\": fake.url(),\n",
    "        \"is_active\": random.choice([True, False])\n",
    "    }\n",
    "    data.append(row)\n",
    "\n",
    "    if (i + 1) % 1000 == 0 or (i + 1) == total_records:\n",
    "        percent = ((i + 1) / total_records) * 100\n",
    "        elapsed = time.time() - start_time\n",
    "        estimated_total = elapsed / (percent / 100 + 1e-6)\n",
    "        eta = estimated_total - elapsed\n",
    "        print(f\"Generated: {i + 1:,} / {total_records:,} ({percent:.1f}%) — ETA: {format_eta(eta)}\", end=\"\\r\", flush=True)\n"
   ]
  },
  {
   "cell_type": "code",
   "execution_count": null,
   "id": "bfc444b1",
   "metadata": {},
   "outputs": [],
   "source": [
    "# Save to CSV\n",
    "df = pd.DataFrame(data)\n",
    "df.to_csv(\"fake_users.csv\", index=False)"
   ]
  },
  {
   "cell_type": "code",
   "execution_count": null,
   "id": "ce45a5b9",
   "metadata": {},
   "outputs": [],
   "source": [
    "# Final output\n",
    "elapsed = time.time() - start_time\n",
    "print(f\"\\n✅ Fake data generation complete in {format_eta(elapsed)}.\")"
   ]
  }
 ],
 "metadata": {
  "kernelspec": {
   "display_name": "Python 3 (ipykernel)",
   "language": "python",
   "name": "python3"
  },
  "language_info": {
   "codemirror_mode": {
    "name": "ipython",
    "version": 3
   },
   "file_extension": ".py",
   "mimetype": "text/x-python",
   "name": "python",
   "nbconvert_exporter": "python",
   "pygments_lexer": "ipython3",
   "version": "3.12.3"
  }
 },
 "nbformat": 4,
 "nbformat_minor": 5
}
