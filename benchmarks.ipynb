{
 "cells": [
  {
   "cell_type": "code",
   "execution_count": 2,
   "id": "c07f1c78",
   "metadata": {},
   "outputs": [],
   "source": [
    "import pandas as pd\n",
    "import fireducks.pandas as fd_pandas\n",
    "import numpy as np\n",
    "import time\n",
    "import tempfile\n",
    "import os\n",
    "import io\n",
    "import re"
   ]
  },
  {
   "cell_type": "code",
   "execution_count": 3,
   "id": "f7357ca4",
   "metadata": {},
   "outputs": [
    {
     "name": "stdout",
     "output_type": "stream",
     "text": [
      "Pandas read time: 27.8696 seconds\n",
      "Fireducks read time: 0.0427 seconds\n",
      "Fireducks was 652.75x faster\n",
      "\n",
      "✅ Outputs match within tolerance\n"
     ]
    }
   ],
   "source": [
    "# Measure execution time for Pandas read\n",
    "start = time.perf_counter()\n",
    "pd_df = pd.read_csv(\"fake_users.csv\")\n",
    "pandas_time = time.perf_counter() - start\n",
    "print(f\"Pandas read time: {pandas_time:.4f} seconds\")\n",
    "\n",
    "# Measure execution time for Fireducks read\n",
    "start = time.perf_counter()\n",
    "fd_df = fd_pandas.read_csv(\"fake_users.csv\")\n",
    "fireducks_time = time.perf_counter() - start\n",
    "print(f\"Fireducks read time: {fireducks_time:.4f} seconds\")\n",
    "\n",
    "# Comparison\n",
    "if pandas_time < fireducks_time:\n",
    "    speedup = fireducks_time / pandas_time\n",
    "    print(f\"Pandas was {speedup:.2f}x faster\")\n",
    "else:\n",
    "    speedup = pandas_time / fireducks_time\n",
    "    print(f\"Fireducks was {speedup:.2f}x faster\")\n",
    "\n",
    "# --- Single-line validation (compare DataFrames) ---\n",
    "print(\"\\n✅ Outputs match within tolerance\" if np.allclose(\n",
    "    pd_df.sort_values(\"account_balance\").reset_index(drop=True)[\"account_balance\"].values,\n",
    "    fd_df.sort_values(\"account_balance\").reset_index(drop=True)[\"account_balance\"].values,\n",
    "    rtol=1e-5, atol=1e-8\n",
    ") else \"\\n❌ Outputs do not match\")"
   ]
  },
  {
   "cell_type": "code",
   "execution_count": 7,
   "id": "a1e9c8f4",
   "metadata": {},
   "outputs": [
    {
     "name": "stdout",
     "output_type": "stream",
     "text": [
      "Pandas to_csv time: 26.1454 seconds\n",
      "Fireducks to_csv time: 5.2534 seconds\n",
      "Fireducks was 4.98x faster\n"
     ]
    }
   ],
   "source": [
    "# Create a temporary file for the test\n",
    "temp_file = tempfile.NamedTemporaryFile(delete=False)\n",
    "temp_file_path = temp_file.name\n",
    "temp_file.close()  # Close it so we can write to it later\n",
    "\n",
    "# Pandas to_csv\n",
    "start = time.perf_counter()\n",
    "pd_df.to_csv(temp_file_path, index=False)\n",
    "pandas_time = time.perf_counter() - start\n",
    "print(f\"Pandas to_csv time: {pandas_time:.4f} seconds\")\n",
    "\n",
    "# Fireducks to_csv\n",
    "start = time.perf_counter()\n",
    "fd_df.to_csv(temp_file_path, index=False)\n",
    "fireducks_time = time.perf_counter() - start\n",
    "print(f\"Fireducks to_csv time: {fireducks_time:.4f} seconds\")\n",
    "\n",
    "# Comparison\n",
    "if pandas_time < fireducks_time:\n",
    "    speedup = fireducks_time / pandas_time\n",
    "    print(f\"Pandas was {speedup:.2f}x faster\")\n",
    "else:\n",
    "    speedup = pandas_time / fireducks_time\n",
    "    print(f\"Fireducks was {speedup:.2f}x faster\")\n",
    "\n",
    "# Clean up the temporary file\n",
    "os.remove(temp_file_path)\n"
   ]
  },
  {
   "cell_type": "code",
   "execution_count": 13,
   "id": "353bc434",
   "metadata": {},
   "outputs": [
    {
     "name": "stdout",
     "output_type": "stream",
     "text": [
      "\n",
      "📊 Memory Usage Comparison:\n",
      "Pandas:    356454.40 KB\n",
      "Fireducks: 352153.60 KB\n",
      "✅ Fireducks used 1.2% less memory\n"
     ]
    }
   ],
   "source": [
    "# --- Pandas .info() ---\n",
    "pd_buffer = io.StringIO()\n",
    "pd_df.info(buf=pd_buffer)\n",
    "pd_info_output = pd_buffer.getvalue()\n",
    "\n",
    "# --- Fireducks .info() ---\n",
    "fd_buffer = io.StringIO()\n",
    "fd_df.info(buf=fd_buffer)\n",
    "fd_info_output = fd_buffer.getvalue()\n",
    "\n",
    "# --- Extract and compare memory usage ---\n",
    "def extract_memory_usage(info_output):\n",
    "    # Match lines like \"memory usage: 1.2 MB\" or \"memory usage: 88.7+ KB\"\n",
    "    match = re.search(r\"memory usage: ([\\d.,+]+)\\s*(\\w+)\", info_output.lower())\n",
    "    if match:\n",
    "        number_str, unit = match.groups()\n",
    "        number = float(re.sub(r'[+,]', '', number_str))  # Remove commas or pluses\n",
    "        unit = unit.lower()\n",
    "        multiplier = {\"bytes\": 1, \"kb\": 1024, \"mb\": 1024**2, \"gb\": 1024**3}.get(unit, 1)\n",
    "        return number * multiplier\n",
    "    return None\n",
    "\n",
    "pd_memory = extract_memory_usage(pd_info_output)\n",
    "fd_memory = extract_memory_usage(fd_info_output)\n",
    "\n",
    "if pd_memory is not None and fd_memory is not None:\n",
    "    print(\"\\n📊 Memory Usage Comparison:\")\n",
    "    print(f\"Pandas:    {pd_memory / 1024:.2f} KB\")\n",
    "    print(f\"Fireducks: {fd_memory / 1024:.2f} KB\")\n",
    "\n",
    "    if pd_memory < fd_memory:\n",
    "        diff = (fd_memory - pd_memory) / fd_memory * 100\n",
    "        print(f\"✅ Pandas used {diff:.1f}% less memory\")\n",
    "    else:\n",
    "        diff = (pd_memory - fd_memory) / pd_memory * 100\n",
    "        print(f\"✅ Fireducks used {diff:.1f}% less memory\")\n",
    "else:\n",
    "    print(\"⚠️ Could not parse memory usage from one of the outputs.\")\n"
   ]
  },
  {
   "cell_type": "code",
   "execution_count": 24,
   "id": "66aafb68",
   "metadata": {},
   "outputs": [
    {
     "name": "stdout",
     "output_type": "stream",
     "text": [
      "Pandas column selection time: 0.230647 seconds\n",
      "Fireducks column selection time: 0.000357 seconds\n",
      "✅ Fireducks was 645.37x faster\n",
      "\n",
      "✅ Outputs match within tolerance\n"
     ]
    }
   ],
   "source": [
    "# Define the list of columns to select\n",
    "selected_columns = [\"name\", \"email\", \"account_balance\", \"is_active\"]\n",
    "\n",
    "# --- Pandas column selection ---\n",
    "start = time.perf_counter()\n",
    "pd_selected = pd_df[selected_columns]\n",
    "pandas_time = time.perf_counter() - start\n",
    "print(f\"Pandas column selection time: {pandas_time:.6f} seconds\")\n",
    "\n",
    "# --- Fireducks column selection ---\n",
    "start = time.perf_counter()\n",
    "fd_selected = fd_df[selected_columns]\n",
    "fireducks_time = time.perf_counter() - start\n",
    "print(f\"Fireducks column selection time: {fireducks_time:.6f} seconds\")\n",
    "\n",
    "# --- Comparison ---\n",
    "if pandas_time < fireducks_time:\n",
    "    speedup = fireducks_time / pandas_time\n",
    "    print(f\"✅ Pandas was {speedup:.2f}x faster\")\n",
    "else:\n",
    "    speedup = pandas_time / fireducks_time\n",
    "    print(f\"✅ Fireducks was {speedup:.2f}x faster\")\n",
    "\n",
    "# --- Single-line validation (sort and compare column values) ---\n",
    "print(\"\\n✅ Outputs match within tolerance\" if np.allclose(\n",
    "    pd_selected.sort_values(\"account_balance\").reset_index(drop=True)[\"account_balance\"].values,\n",
    "    fd_selected.sort_values(\"account_balance\").reset_index(drop=True)[\"account_balance\"].values,\n",
    "    rtol=1e-5, atol=1e-8\n",
    ") else \"\\n❌ Outputs do not match\")"
   ]
  },
  {
   "cell_type": "code",
   "execution_count": null,
   "id": "e93b4d02",
   "metadata": {},
   "outputs": [
    {
     "name": "stdout",
     "output_type": "stream",
     "text": [
      "Pandas filter time: 1.067617 seconds\n",
      "Fireducks filter time: 0.000714 seconds\n",
      "✅ Fireducks was 1494.57x faster\n",
      "✅ Outputs match within tolerance\n"
     ]
    }
   ],
   "source": [
    "# Define filter threshold\n",
    "balance_threshold = 20000\n",
    "\n",
    "# --- Pandas filter ---\n",
    "start = time.perf_counter()\n",
    "pd_filtered = pd_df[pd_df[\"account_balance\"] > balance_threshold]\n",
    "pandas_time = time.perf_counter() - start\n",
    "print(f\"Pandas filter time: {pandas_time:.6f} seconds\")\n",
    "\n",
    "# --- Fireducks filter ---\n",
    "start = time.perf_counter()\n",
    "fd_filtered = fd_df[fd_df[\"account_balance\"] > balance_threshold]\n",
    "fireducks_time = time.perf_counter() - start\n",
    "print(f\"Fireducks filter time: {fireducks_time:.6f} seconds\")\n",
    "\n",
    "# --- Comparison ---\n",
    "if pandas_time < fireducks_time:\n",
    "    speedup = fireducks_time / pandas_time\n",
    "    print(f\"✅ Pandas was {speedup:.2f}x faster\")\n",
    "else:\n",
    "    speedup = pandas_time / fireducks_time\n",
    "    print(f\"✅ Fireducks was {speedup:.2f}x faster\")\n",
    "\n",
    "# --- Single-line validation (sort and compare account balances) ---\n",
    "print(\"\\n✅ Outputs match within tolerance\" if np.allclose(\n",
    "    pd_filtered.sort_values(\"account_balance\").reset_index(drop=True)[\"account_balance\"].values,\n",
    "    fd_filtered.sort_values(\"account_balance\").reset_index(drop=True)[\"account_balance\"].values,\n",
    "    rtol=1e-5, atol=1e-8\n",
    ") else \"\\n❌ Outputs do not match\")"
   ]
  },
  {
   "cell_type": "code",
   "execution_count": null,
   "id": "84af5cc6",
   "metadata": {},
   "outputs": [
    {
     "name": "stdout",
     "output_type": "stream",
     "text": [
      "Pandas groupby mean time: 0.539820 seconds\n",
      "Fireducks groupby mean time: 0.000333 seconds\n",
      "✅ Fireducks was 1623.31x faster\n",
      "\n",
      "✅ Outputs match within tolerance\n"
     ]
    }
   ],
   "source": [
    "# Define grouping and aggregation columns\n",
    "group_col = \"job_title\"\n",
    "agg_col = \"account_balance\"\n",
    "\n",
    "# --- Pandas groupby ---\n",
    "start = time.perf_counter()\n",
    "pd_grouped = pd_df.groupby(group_col)[agg_col].mean()\n",
    "pandas_time = time.perf_counter() - start\n",
    "print(f\"Pandas groupby mean time: {pandas_time:.6f} seconds\")\n",
    "\n",
    "# --- Fireducks groupby ---\n",
    "start = time.perf_counter()\n",
    "fd_grouped = fd_df.groupby(group_col)[agg_col].mean()\n",
    "fireducks_time = time.perf_counter() - start\n",
    "print(f\"Fireducks groupby mean time: {fireducks_time:.6f} seconds\")\n",
    "\n",
    "# --- Comparison ---\n",
    "if pandas_time < fireducks_time:\n",
    "    speedup = fireducks_time / pandas_time\n",
    "    print(f\"✅ Pandas was {speedup:.2f}x faster\")\n",
    "else:\n",
    "    speedup = pandas_time / fireducks_time\n",
    "    print(f\"✅ Fireducks was {speedup:.2f}x faster\")\n",
    "\n",
    "    # --- Single-line validation ---\n",
    "print(\"\\n✅ Outputs match within tolerance\" if np.allclose(\n",
    "    pd_grouped.sort_index().values, \n",
    "    fd_grouped.sort_index().values, \n",
    "    rtol=1e-5, atol=1e-8\n",
    ") else \"\\n❌ Outputs do not match\")"
   ]
  },
  {
   "cell_type": "code",
   "execution_count": 27,
   "id": "f11d0aca",
   "metadata": {},
   "outputs": [
    {
     "name": "stdout",
     "output_type": "stream",
     "text": [
      "Pandas sort_values time: 4.739213 seconds\n",
      "Fireducks sort_values time: 0.000256 seconds\n",
      "✅ Fireducks was 18489.08x faster\n",
      "\n",
      "✅ Outputs match within tolerance\n"
     ]
    }
   ],
   "source": [
    "# Define the column to sort by\n",
    "sort_column = \"account_balance\"\n",
    "\n",
    "# --- Pandas sort_values ---\n",
    "start = time.perf_counter()\n",
    "pd_sorted = pd_df.sort_values(by=sort_column)\n",
    "pandas_time = time.perf_counter() - start\n",
    "print(f\"Pandas sort_values time: {pandas_time:.6f} seconds\")\n",
    "\n",
    "# --- Fireducks sort_values ---\n",
    "start = time.perf_counter()\n",
    "fd_sorted = fd_df.sort_values(by=sort_column)\n",
    "fireducks_time = time.perf_counter() - start\n",
    "print(f\"Fireducks sort_values time: {fireducks_time:.6f} seconds\")\n",
    "\n",
    "# --- Comparison ---\n",
    "if pandas_time < fireducks_time:\n",
    "    speedup = fireducks_time / pandas_time\n",
    "    print(f\"✅ Pandas was {speedup:.2f}x faster\")\n",
    "else:\n",
    "    speedup = pandas_time / fireducks_time\n",
    "    print(f\"✅ Fireducks was {speedup:.2f}x faster\")\n",
    "\n",
    "# --- Single-line validation (compare sorted DataFrames) ---\n",
    "print(\"\\n✅ Outputs match within tolerance\" if np.allclose(\n",
    "    pd_sorted.reset_index(drop=True)[sort_column].values,\n",
    "    fd_sorted.reset_index(drop=True)[sort_column].values,\n",
    "    rtol=1e-5, atol=1e-8\n",
    ") else \"\\n❌ Outputs do not match\")"
   ]
  },
  {
   "cell_type": "code",
   "execution_count": 12,
   "id": "a92da57b",
   "metadata": {},
   "outputs": [
    {
     "name": "stdout",
     "output_type": "stream",
     "text": [
      "Pandas merge time: 9.585626 seconds\n",
      "Fireducks merge time: 9.803472 seconds\n",
      "✅ Pandas was 1.02x faster\n"
     ]
    }
   ],
   "source": [
    "# Define the size of the sample data\n",
    "size = 1000000  # Reduced size for testing to avoid memory issues\n",
    "\n",
    "# Create smaller subset of data based on the defined size\n",
    "pd_df_small = pd_df.sample(size)\n",
    "merge_df_small = pd_df_small[[\"name\", \"email\", \"job_title\", \"company\"]].copy()\n",
    "\n",
    "# --- Pandas merge with smaller data ---\n",
    "start = time.perf_counter()\n",
    "pd_merged = pd_df_small.merge(merge_df_small, on=\"name\", how=\"inner\")\n",
    "pandas_time = time.perf_counter() - start\n",
    "print(f\"Pandas merge time: {pandas_time:.6f} seconds\")\n",
    "\n",
    "# --- Fireducks merge with same size data ---\n",
    "start = time.perf_counter()\n",
    "# Explicitly convert to pandas for Fireducks DataFrame\n",
    "fd_df_small = fd_df.sample(size).to_pandas()  # Convert to Pandas before merge\n",
    "fd_merged = fd_df_small.merge(merge_df_small, on=\"name\", how=\"inner\")\n",
    "fireducks_time = time.perf_counter() - start\n",
    "print(f\"Fireducks merge time: {fireducks_time:.6f} seconds\")\n",
    "\n",
    "# --- Comparison ---\n",
    "if pandas_time < fireducks_time:\n",
    "    speedup = fireducks_time / pandas_time\n",
    "    print(f\"✅ Pandas was {speedup:.2f}x faster\")\n",
    "else:\n",
    "    speedup = pandas_time / fireducks_time\n",
    "    print(f\"✅ Fireducks was {speedup:.2f}x faster\")"
   ]
  },
  {
   "cell_type": "code",
   "execution_count": 14,
   "id": "0cd623b8",
   "metadata": {},
   "outputs": [
    {
     "name": "stdout",
     "output_type": "stream",
     "text": [
      "Pandas concat time: 0.579931 seconds\n",
      "Fireducks concat time: 2.483235 seconds\n",
      "✅ Pandas was 4.28x faster\n"
     ]
    }
   ],
   "source": [
    "# Define the size of the sample data\n",
    "size = 1000000  # You can adjust this depending on the available memory\n",
    "\n",
    "# Create smaller subset of data based on the defined size\n",
    "pd_df_small = pd_df.sample(size)\n",
    "merge_df_small = pd_df_small[[\"name\", \"email\", \"job_title\", \"company\"]].copy()\n",
    "\n",
    "# --- Pandas concat --- (Concatenate along rows, axis 0)\n",
    "start = time.perf_counter()\n",
    "pd_concat = pd.concat([pd_df_small, merge_df_small], axis=0)\n",
    "pandas_time = time.perf_counter() - start\n",
    "print(f\"Pandas concat time: {pandas_time:.6f} seconds\")\n",
    "\n",
    "# --- Fireducks concat --- (Concatenate along rows, axis 0)\n",
    "start = time.perf_counter()\n",
    "fd_df_small = fd_df.sample(size).to_pandas()  # Convert to Pandas for concat\n",
    "fd_concat = pd.concat([fd_df_small, merge_df_small], axis=0)\n",
    "fireducks_time = time.perf_counter() - start\n",
    "print(f\"Fireducks concat time: {fireducks_time:.6f} seconds\")\n",
    "\n",
    "# --- Comparison ---\n",
    "if pandas_time < fireducks_time:\n",
    "    speedup = fireducks_time / pandas_time\n",
    "    print(f\"✅ Pandas was {speedup:.2f}x faster\")\n",
    "else:\n",
    "    speedup = pandas_time / fireducks_time\n",
    "    print(f\"✅ Fireducks was {speedup:.2f}x faster\")\n"
   ]
  }
 ],
 "metadata": {
  "kernelspec": {
   "display_name": "Python 3 (ipykernel)",
   "language": "python",
   "name": "python3"
  },
  "language_info": {
   "codemirror_mode": {
    "name": "ipython",
    "version": 3
   },
   "file_extension": ".py",
   "mimetype": "text/x-python",
   "name": "python",
   "nbconvert_exporter": "python",
   "pygments_lexer": "ipython3",
   "version": "3.12.3"
  }
 },
 "nbformat": 4,
 "nbformat_minor": 5
}
